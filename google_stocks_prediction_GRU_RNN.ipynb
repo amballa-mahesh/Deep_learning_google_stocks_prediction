{
  "nbformat": 4,
  "nbformat_minor": 0,
  "metadata": {
    "colab": {
      "provenance": [],
      "authorship_tag": "ABX9TyNb/9fYv2BR7tu+2sW1Cpj1",
      "include_colab_link": true
    },
    "kernelspec": {
      "name": "python3",
      "display_name": "Python 3"
    },
    "language_info": {
      "name": "python"
    }
  },
  "cells": [
    {
      "cell_type": "markdown",
      "metadata": {
        "id": "view-in-github",
        "colab_type": "text"
      },
      "source": [
        "<a href=\"https://colab.research.google.com/github/amballa-mahesh/Deep_learning_google_stocks_prediction/blob/main/google_stocks_prediction_GRU_RNN.ipynb\" target=\"_parent\"><img src=\"https://colab.research.google.com/assets/colab-badge.svg\" alt=\"Open In Colab\"/></a>"
      ]
    },
    {
      "cell_type": "code",
      "source": [
        "gsheet_url=\"https://docs.google.com/spreadsheets/d/1Sqf4OdzWkm_BkfnSw2YAMF_J7vEApKu3uJosyqNgPrE/edit#gid=0\""
      ],
      "metadata": {
        "id": "yFrIepIUrtpG"
      },
      "execution_count": null,
      "outputs": []
    },
    {
      "cell_type": "code",
      "source": [
        "url_1 = gsheet_url.replace('/edit#gid=', '/export?format=csv&gid=')"
      ],
      "metadata": {
        "id": "NBbHllwIrtre"
      },
      "execution_count": null,
      "outputs": []
    },
    {
      "cell_type": "code",
      "source": [
        "import pandas as pd"
      ],
      "metadata": {
        "id": "VVruKiSXrtts"
      },
      "execution_count": null,
      "outputs": []
    },
    {
      "cell_type": "markdown",
      "source": [
        "Reading Data"
      ],
      "metadata": {
        "id": "akmPOduH9UmL"
      }
    },
    {
      "cell_type": "code",
      "source": [
        "df = pd.read_csv(url_1,index_col='Date',parse_dates= ['Date'])"
      ],
      "metadata": {
        "id": "ynuMRLa6rtv6"
      },
      "execution_count": null,
      "outputs": []
    },
    {
      "cell_type": "code",
      "source": [
        "df.tail()"
      ],
      "metadata": {
        "colab": {
          "base_uri": "https://localhost:8080/",
          "height": 238
        },
        "id": "zcqMfladrtxk",
        "outputId": "0549daf9-03d9-4d82-f2c5-c976d24560a1"
      },
      "execution_count": null,
      "outputs": [
        {
          "output_type": "execute_result",
          "data": {
            "text/plain": [
              "                       Open    High     Low   Close    Volume\n",
              "Date                                                         \n",
              "2023-04-10 16:00:00  107.39  107.97  105.60  106.95  19741517\n",
              "2023-04-11 16:00:00  106.92  107.22  105.28  106.12  18721278\n",
              "2023-04-12 16:00:00  107.39  107.59  104.97  105.22  22761569\n",
              "2023-04-13 16:00:00  106.47  108.27  106.44  108.19  21650747\n",
              "2023-04-14 16:00:00  107.69  109.58  107.59  109.46  20758686"
            ],
            "text/html": [
              "\n",
              "  <div id=\"df-40d39c8f-2ae9-4e57-8eb0-e5fc8d3ce4ef\">\n",
              "    <div class=\"colab-df-container\">\n",
              "      <div>\n",
              "<style scoped>\n",
              "    .dataframe tbody tr th:only-of-type {\n",
              "        vertical-align: middle;\n",
              "    }\n",
              "\n",
              "    .dataframe tbody tr th {\n",
              "        vertical-align: top;\n",
              "    }\n",
              "\n",
              "    .dataframe thead th {\n",
              "        text-align: right;\n",
              "    }\n",
              "</style>\n",
              "<table border=\"1\" class=\"dataframe\">\n",
              "  <thead>\n",
              "    <tr style=\"text-align: right;\">\n",
              "      <th></th>\n",
              "      <th>Open</th>\n",
              "      <th>High</th>\n",
              "      <th>Low</th>\n",
              "      <th>Close</th>\n",
              "      <th>Volume</th>\n",
              "    </tr>\n",
              "    <tr>\n",
              "      <th>Date</th>\n",
              "      <th></th>\n",
              "      <th></th>\n",
              "      <th></th>\n",
              "      <th></th>\n",
              "      <th></th>\n",
              "    </tr>\n",
              "  </thead>\n",
              "  <tbody>\n",
              "    <tr>\n",
              "      <th>2023-04-10 16:00:00</th>\n",
              "      <td>107.39</td>\n",
              "      <td>107.97</td>\n",
              "      <td>105.60</td>\n",
              "      <td>106.95</td>\n",
              "      <td>19741517</td>\n",
              "    </tr>\n",
              "    <tr>\n",
              "      <th>2023-04-11 16:00:00</th>\n",
              "      <td>106.92</td>\n",
              "      <td>107.22</td>\n",
              "      <td>105.28</td>\n",
              "      <td>106.12</td>\n",
              "      <td>18721278</td>\n",
              "    </tr>\n",
              "    <tr>\n",
              "      <th>2023-04-12 16:00:00</th>\n",
              "      <td>107.39</td>\n",
              "      <td>107.59</td>\n",
              "      <td>104.97</td>\n",
              "      <td>105.22</td>\n",
              "      <td>22761569</td>\n",
              "    </tr>\n",
              "    <tr>\n",
              "      <th>2023-04-13 16:00:00</th>\n",
              "      <td>106.47</td>\n",
              "      <td>108.27</td>\n",
              "      <td>106.44</td>\n",
              "      <td>108.19</td>\n",
              "      <td>21650747</td>\n",
              "    </tr>\n",
              "    <tr>\n",
              "      <th>2023-04-14 16:00:00</th>\n",
              "      <td>107.69</td>\n",
              "      <td>109.58</td>\n",
              "      <td>107.59</td>\n",
              "      <td>109.46</td>\n",
              "      <td>20758686</td>\n",
              "    </tr>\n",
              "  </tbody>\n",
              "</table>\n",
              "</div>\n",
              "      <button class=\"colab-df-convert\" onclick=\"convertToInteractive('df-40d39c8f-2ae9-4e57-8eb0-e5fc8d3ce4ef')\"\n",
              "              title=\"Convert this dataframe to an interactive table.\"\n",
              "              style=\"display:none;\">\n",
              "        \n",
              "  <svg xmlns=\"http://www.w3.org/2000/svg\" height=\"24px\"viewBox=\"0 0 24 24\"\n",
              "       width=\"24px\">\n",
              "    <path d=\"M0 0h24v24H0V0z\" fill=\"none\"/>\n",
              "    <path d=\"M18.56 5.44l.94 2.06.94-2.06 2.06-.94-2.06-.94-.94-2.06-.94 2.06-2.06.94zm-11 1L8.5 8.5l.94-2.06 2.06-.94-2.06-.94L8.5 2.5l-.94 2.06-2.06.94zm10 10l.94 2.06.94-2.06 2.06-.94-2.06-.94-.94-2.06-.94 2.06-2.06.94z\"/><path d=\"M17.41 7.96l-1.37-1.37c-.4-.4-.92-.59-1.43-.59-.52 0-1.04.2-1.43.59L10.3 9.45l-7.72 7.72c-.78.78-.78 2.05 0 2.83L4 21.41c.39.39.9.59 1.41.59.51 0 1.02-.2 1.41-.59l7.78-7.78 2.81-2.81c.8-.78.8-2.07 0-2.86zM5.41 20L4 18.59l7.72-7.72 1.47 1.35L5.41 20z\"/>\n",
              "  </svg>\n",
              "      </button>\n",
              "      \n",
              "  <style>\n",
              "    .colab-df-container {\n",
              "      display:flex;\n",
              "      flex-wrap:wrap;\n",
              "      gap: 12px;\n",
              "    }\n",
              "\n",
              "    .colab-df-convert {\n",
              "      background-color: #E8F0FE;\n",
              "      border: none;\n",
              "      border-radius: 50%;\n",
              "      cursor: pointer;\n",
              "      display: none;\n",
              "      fill: #1967D2;\n",
              "      height: 32px;\n",
              "      padding: 0 0 0 0;\n",
              "      width: 32px;\n",
              "    }\n",
              "\n",
              "    .colab-df-convert:hover {\n",
              "      background-color: #E2EBFA;\n",
              "      box-shadow: 0px 1px 2px rgba(60, 64, 67, 0.3), 0px 1px 3px 1px rgba(60, 64, 67, 0.15);\n",
              "      fill: #174EA6;\n",
              "    }\n",
              "\n",
              "    [theme=dark] .colab-df-convert {\n",
              "      background-color: #3B4455;\n",
              "      fill: #D2E3FC;\n",
              "    }\n",
              "\n",
              "    [theme=dark] .colab-df-convert:hover {\n",
              "      background-color: #434B5C;\n",
              "      box-shadow: 0px 1px 3px 1px rgba(0, 0, 0, 0.15);\n",
              "      filter: drop-shadow(0px 1px 2px rgba(0, 0, 0, 0.3));\n",
              "      fill: #FFFFFF;\n",
              "    }\n",
              "  </style>\n",
              "\n",
              "      <script>\n",
              "        const buttonEl =\n",
              "          document.querySelector('#df-40d39c8f-2ae9-4e57-8eb0-e5fc8d3ce4ef button.colab-df-convert');\n",
              "        buttonEl.style.display =\n",
              "          google.colab.kernel.accessAllowed ? 'block' : 'none';\n",
              "\n",
              "        async function convertToInteractive(key) {\n",
              "          const element = document.querySelector('#df-40d39c8f-2ae9-4e57-8eb0-e5fc8d3ce4ef');\n",
              "          const dataTable =\n",
              "            await google.colab.kernel.invokeFunction('convertToInteractive',\n",
              "                                                     [key], {});\n",
              "          if (!dataTable) return;\n",
              "\n",
              "          const docLinkHtml = 'Like what you see? Visit the ' +\n",
              "            '<a target=\"_blank\" href=https://colab.research.google.com/notebooks/data_table.ipynb>data table notebook</a>'\n",
              "            + ' to learn more about interactive tables.';\n",
              "          element.innerHTML = '';\n",
              "          dataTable['output_type'] = 'display_data';\n",
              "          await google.colab.output.renderOutput(dataTable, element);\n",
              "          const docLink = document.createElement('div');\n",
              "          docLink.innerHTML = docLinkHtml;\n",
              "          element.appendChild(docLink);\n",
              "        }\n",
              "      </script>\n",
              "    </div>\n",
              "  </div>\n",
              "  "
            ]
          },
          "metadata": {},
          "execution_count": 262
        }
      ]
    },
    {
      "cell_type": "code",
      "source": [
        "df.shape"
      ],
      "metadata": {
        "colab": {
          "base_uri": "https://localhost:8080/"
        },
        "id": "UQxCzF8Rrt6C",
        "outputId": "0e9b065f-3050-406f-fa30-0afcf3e2dc29"
      },
      "execution_count": null,
      "outputs": [
        {
          "output_type": "execute_result",
          "data": {
            "text/plain": [
              "(1376, 5)"
            ]
          },
          "metadata": {},
          "execution_count": 263
        }
      ]
    },
    {
      "cell_type": "markdown",
      "source": [
        "Taking High values for predition\n"
      ],
      "metadata": {
        "id": "rHQCXRJk9XgD"
      }
    },
    {
      "cell_type": "code",
      "source": [
        "data = df['High'].values\n",
        "data = data.reshape(-1,1)"
      ],
      "metadata": {
        "id": "rEqXN_dErt9F"
      },
      "execution_count": null,
      "outputs": []
    },
    {
      "cell_type": "markdown",
      "source": [
        "Transforming using minmax scaler"
      ],
      "metadata": {
        "id": "VwogM79_9edY"
      }
    },
    {
      "cell_type": "code",
      "source": [
        "from sklearn.preprocessing import MinMaxScaler"
      ],
      "metadata": {
        "id": "-lyXcoHttyFd"
      },
      "execution_count": null,
      "outputs": []
    },
    {
      "cell_type": "code",
      "source": [
        "scaler = MinMaxScaler()"
      ],
      "metadata": {
        "id": "dkio5Pz0t8X8"
      },
      "execution_count": null,
      "outputs": []
    },
    {
      "cell_type": "code",
      "source": [
        "data = scaler.fit_transform(data)"
      ],
      "metadata": {
        "id": "PlBVae8pt_UB"
      },
      "execution_count": null,
      "outputs": []
    },
    {
      "cell_type": "code",
      "source": [
        "import numpy as np\n",
        "import matplotlib.pyplot as plt\n",
        "plt.style.use('fivethirtyeight')"
      ],
      "metadata": {
        "id": "FeBnu3cjuP1k"
      },
      "execution_count": null,
      "outputs": []
    },
    {
      "cell_type": "code",
      "source": [
        "df['High'][:'2021'].plot(figsize = (12,3),legend=True)\n",
        "df['High']['2021':].plot(figsize = (12,3),legend=True)\n",
        "plt.legend(['Train_data','Test_data'])\n",
        "plt.title('Google Stocks Price')\n",
        "plt.show()\n"
      ],
      "metadata": {
        "colab": {
          "base_uri": "https://localhost:8080/",
          "height": 345
        },
        "id": "w6w0GPEmuP4h",
        "outputId": "50099988-421a-4e20-acb8-a3ea022e39e3"
      },
      "execution_count": null,
      "outputs": [
        {
          "output_type": "display_data",
          "data": {
            "text/plain": [
              "<Figure size 1200x300 with 1 Axes>"
            ],
            "image/png": "[encoded data removed]"
          },
          "metadata": {}
        }
      ]
    },
    {
      "cell_type": "code",
      "source": [
        "train_data = data[:1316]\n",
        "test_data  = data[1316:]"
      ],
      "metadata": {
        "id": "0T4GkOv4uP7N"
      },
      "execution_count": null,
      "outputs": []
    },
    {
      "cell_type": "code",
      "source": [
        "test_data.shape"
      ],
      "metadata": {
        "colab": {
          "base_uri": "https://localhost:8080/"
        },
        "id": "tI4nzSmHzpZQ",
        "outputId": "5533a830-088a-4d15-b863-c35ad6067fd5"
      },
      "execution_count": null,
      "outputs": [
        {
          "output_type": "execute_result",
          "data": {
            "text/plain": [
              "(60, 1)"
            ]
          },
          "metadata": {},
          "execution_count": 271
        }
      ]
    },
    {
      "cell_type": "markdown",
      "source": [
        "Creating x_train as 60days of data in series used to predict the 61st day(Just we took 60days as buffer)"
      ],
      "metadata": {
        "id": "P9S6wF6v9mAd"
      }
    },
    {
      "cell_type": "code",
      "source": [
        "x_train = []\n",
        "y_train = []\n",
        "\n",
        "for i in range(60,train_data.shape[0]):\n",
        "  x_train.append(train_data[i-60:i])\n",
        "  y_train.append(train_data[i])\n",
        "\n",
        "x_train = np.array(x_train)\n",
        "y_train = np.array(y_train)"
      ],
      "metadata": {
        "id": "UHZVPdSzuP9R"
      },
      "execution_count": null,
      "outputs": []
    },
    {
      "cell_type": "code",
      "source": [
        "x_train[0][-1]"
      ],
      "metadata": {
        "colab": {
          "base_uri": "https://localhost:8080/"
        },
        "id": "aaBYkUhf4V0T",
        "outputId": "adcdacf6-5d36-41a7-e07f-2faf1237565a"
      },
      "execution_count": null,
      "outputs": [
        {
          "output_type": "execute_result",
          "data": {
            "text/plain": [
              "array([0.08896418])"
            ]
          },
          "metadata": {},
          "execution_count": 273
        }
      ]
    },
    {
      "cell_type": "code",
      "source": [
        "y_train[0]"
      ],
      "metadata": {
        "colab": {
          "base_uri": "https://localhost:8080/"
        },
        "id": "riD2ZYhN4ZA4",
        "outputId": "0b5ebc12-6c8b-4d12-b0d2-8676f3c4d1e2"
      },
      "execution_count": null,
      "outputs": [
        {
          "output_type": "execute_result",
          "data": {
            "text/plain": [
              "array([0.0946757])"
            ]
          },
          "metadata": {},
          "execution_count": 274
        }
      ]
    },
    {
      "cell_type": "code",
      "source": [
        "x_train.shape,y_train.shape"
      ],
      "metadata": {
        "colab": {
          "base_uri": "https://localhost:8080/"
        },
        "id": "cjOs-I3duQAU",
        "outputId": "b4156656-2c58-48b3-d40c-a712647eb200"
      },
      "execution_count": null,
      "outputs": [
        {
          "output_type": "execute_result",
          "data": {
            "text/plain": [
              "((1256, 60, 1), (1256, 1))"
            ]
          },
          "metadata": {},
          "execution_count": 275
        }
      ]
    },
    {
      "cell_type": "code",
      "source": [
        "import tensorflow"
      ],
      "metadata": {
        "id": "DZetHelkuQCY"
      },
      "execution_count": null,
      "outputs": []
    },
    {
      "cell_type": "code",
      "source": [
        "from tensorflow.keras.models import Sequential\n",
        "from tensorflow.keras.layers import Dense,Dropout,LSTM,SimpleRNN,GRU"
      ],
      "metadata": {
        "id": "r0i_y8fMruBz"
      },
      "execution_count": null,
      "outputs": []
    },
    {
      "cell_type": "markdown",
      "source": [
        "Model creation using RNN and GRU"
      ],
      "metadata": {
        "id": "PXTsk8Lo902i"
      }
    },
    {
      "cell_type": "code",
      "source": [
        "model = Sequential()\n",
        "model.add(SimpleRNN(60, input_shape = (x_train.shape[1],1),activation='tanh',return_sequences=True))\n",
        "model.add(Dropout(rate = 0.2))\n",
        "model.add(GRU(60,activation='tanh'))\n",
        "model.add(Dropout(rate = 0.2))\n",
        "model.add(Dense(units =1))"
      ],
      "metadata": {
        "id": "OCUY_xkXruHE"
      },
      "execution_count": null,
      "outputs": []
    },
    {
      "cell_type": "code",
      "source": [
        "model.compile(optimizer= 'adam',loss = 'mean_squared_error',metrics = 'accuracy')"
      ],
      "metadata": {
        "id": "DGyGV-IVruJg"
      },
      "execution_count": null,
      "outputs": []
    },
    {
      "cell_type": "code",
      "source": [
        "model.fit(x_train,y_train,epochs = 100,batch_size=100,validation_split= 0.2)"
      ],
      "metadata": {
        "colab": {
          "base_uri": "https://localhost:8080/"
        },
        "id": "YHV7zi0-ruLv",
        "outputId": "554aa076-c84a-49f8-d8fa-1e3380c857d4"
      },
      "execution_count": null,
      "outputs": [
        {
          "output_type": "stream",
          "name": "stdout",
          "text": [
            "Epoch 1/100\n",
            "11/11 [==============================] - 4s 144ms/step - loss: 0.0654 - accuracy: 0.0000e+00 - val_loss: 0.0202 - val_accuracy: 0.0040\n",
            "Epoch 2/100\n",
            "11/11 [==============================] - 1s 82ms/step - loss: 0.0124 - accuracy: 0.0000e+00 - val_loss: 0.0090 - val_accuracy: 0.0040\n",
            "Epoch 3/100\n",
            "11/11 [==============================] - 1s 53ms/step - loss: 0.0057 - accuracy: 0.0000e+00 - val_loss: 0.0027 - val_accuracy: 0.0040\n",
            "Epoch 4/100\n",
            "11/11 [==============================] - 1s 55ms/step - loss: 0.0045 - accuracy: 0.0000e+00 - val_loss: 0.0019 - val_accuracy: 0.0040\n",
            "Epoch 5/100\n",
            "11/11 [==============================] - 1s 54ms/step - loss: 0.0040 - accuracy: 0.0000e+00 - val_loss: 0.0019 - val_accuracy: 0.0040\n",
            "Epoch 6/100\n",
            "11/11 [==============================] - 1s 56ms/step - loss: 0.0047 - accuracy: 0.0000e+00 - val_loss: 0.0022 - val_accuracy: 0.0040\n",
            "Epoch 7/100\n",
            "11/11 [==============================] - 1s 57ms/step - loss: 0.0034 - accuracy: 0.0000e+00 - val_loss: 0.0026 - val_accuracy: 0.0040\n",
            "Epoch 8/100\n",
            "11/11 [==============================] - 1s 51ms/step - loss: 0.0029 - accuracy: 0.0000e+00 - val_loss: 0.0016 - val_accuracy: 0.0040\n",
            "Epoch 9/100\n",
            "11/11 [==============================] - 1s 52ms/step - loss: 0.0029 - accuracy: 0.0000e+00 - val_loss: 0.0016 - val_accuracy: 0.0040\n",
            "Epoch 10/100\n",
            "11/11 [==============================] - 1s 52ms/step - loss: 0.0029 - accuracy: 0.0000e+00 - val_loss: 0.0017 - val_accuracy: 0.0040\n",
            "Epoch 11/100\n",
            "11/11 [==============================] - 1s 53ms/step - loss: 0.0025 - accuracy: 0.0000e+00 - val_loss: 0.0016 - val_accuracy: 0.0040\n",
            "Epoch 12/100\n",
            "11/11 [==============================] - 1s 51ms/step - loss: 0.0025 - accuracy: 0.0000e+00 - val_loss: 0.0021 - val_accuracy: 0.0040\n",
            "Epoch 13/100\n",
            "11/11 [==============================] - 1s 51ms/step - loss: 0.0026 - accuracy: 0.0000e+00 - val_loss: 0.0018 - val_accuracy: 0.0040\n",
            "Epoch 14/100\n",
            "11/11 [==============================] - 1s 81ms/step - loss: 0.0026 - accuracy: 0.0000e+00 - val_loss: 0.0015 - val_accuracy: 0.0040\n",
            "Epoch 15/100\n",
            "11/11 [==============================] - 2s 141ms/step - loss: 0.0022 - accuracy: 0.0000e+00 - val_loss: 0.0016 - val_accuracy: 0.0040\n",
            "Epoch 16/100\n",
            "11/11 [==============================] - 2s 142ms/step - loss: 0.0020 - accuracy: 0.0000e+00 - val_loss: 0.0015 - val_accuracy: 0.0040\n",
            "Epoch 17/100\n",
            "11/11 [==============================] - 2s 137ms/step - loss: 0.0022 - accuracy: 0.0000e+00 - val_loss: 0.0017 - val_accuracy: 0.0040\n",
            "Epoch 18/100\n",
            "11/11 [==============================] - 1s 137ms/step - loss: 0.0021 - accuracy: 0.0000e+00 - val_loss: 0.0017 - val_accuracy: 0.0040\n",
            "Epoch 19/100\n",
            "11/11 [==============================] - 1s 70ms/step - loss: 0.0029 - accuracy: 0.0000e+00 - val_loss: 0.0034 - val_accuracy: 0.0040\n",
            "Epoch 20/100\n",
            "11/11 [==============================] - 1s 75ms/step - loss: 0.0021 - accuracy: 0.0000e+00 - val_loss: 0.0016 - val_accuracy: 0.0040\n",
            "Epoch 21/100\n",
            "11/11 [==============================] - 1s 70ms/step - loss: 0.0022 - accuracy: 0.0000e+00 - val_loss: 0.0018 - val_accuracy: 0.0040\n",
            "Epoch 22/100\n",
            "11/11 [==============================] - 1s 69ms/step - loss: 0.0023 - accuracy: 0.0000e+00 - val_loss: 0.0033 - val_accuracy: 0.0040\n",
            "Epoch 23/100\n",
            "11/11 [==============================] - 1s 59ms/step - loss: 0.0021 - accuracy: 0.0000e+00 - val_loss: 0.0015 - val_accuracy: 0.0040\n",
            "Epoch 24/100\n",
            "11/11 [==============================] - 1s 78ms/step - loss: 0.0019 - accuracy: 0.0000e+00 - val_loss: 0.0014 - val_accuracy: 0.0040\n",
            "Epoch 25/100\n",
            "11/11 [==============================] - 1s 56ms/step - loss: 0.0017 - accuracy: 0.0000e+00 - val_loss: 0.0015 - val_accuracy: 0.0040\n",
            "Epoch 26/100\n",
            "11/11 [==============================] - 1s 61ms/step - loss: 0.0019 - accuracy: 0.0000e+00 - val_loss: 0.0014 - val_accuracy: 0.0040\n",
            "Epoch 27/100\n",
            "11/11 [==============================] - 1s 71ms/step - loss: 0.0019 - accuracy: 0.0000e+00 - val_loss: 0.0014 - val_accuracy: 0.0040\n",
            "Epoch 28/100\n",
            "11/11 [==============================] - 1s 73ms/step - loss: 0.0017 - accuracy: 0.0000e+00 - val_loss: 0.0015 - val_accuracy: 0.0040\n",
            "Epoch 29/100\n",
            "11/11 [==============================] - 1s 63ms/step - loss: 0.0017 - accuracy: 0.0000e+00 - val_loss: 0.0018 - val_accuracy: 0.0040\n",
            "Epoch 30/100\n",
            "11/11 [==============================] - 1s 56ms/step - loss: 0.0016 - accuracy: 0.0000e+00 - val_loss: 0.0013 - val_accuracy: 0.0040\n",
            "Epoch 31/100\n",
            "11/11 [==============================] - 1s 84ms/step - loss: 0.0015 - accuracy: 0.0000e+00 - val_loss: 0.0017 - val_accuracy: 0.0040\n",
            "Epoch 32/100\n",
            "11/11 [==============================] - 1s 103ms/step - loss: 0.0022 - accuracy: 0.0000e+00 - val_loss: 0.0016 - val_accuracy: 0.0040\n",
            "Epoch 33/100\n",
            "11/11 [==============================] - 1s 104ms/step - loss: 0.0017 - accuracy: 0.0000e+00 - val_loss: 0.0012 - val_accuracy: 0.0040\n",
            "Epoch 34/100\n",
            "11/11 [==============================] - 1s 100ms/step - loss: 0.0016 - accuracy: 0.0000e+00 - val_loss: 0.0026 - val_accuracy: 0.0040\n",
            "Epoch 35/100\n",
            "11/11 [==============================] - 1s 80ms/step - loss: 0.0018 - accuracy: 0.0000e+00 - val_loss: 0.0012 - val_accuracy: 0.0040\n",
            "Epoch 36/100\n",
            "11/11 [==============================] - 1s 71ms/step - loss: 0.0017 - accuracy: 0.0000e+00 - val_loss: 0.0019 - val_accuracy: 0.0040\n",
            "Epoch 37/100\n",
            "11/11 [==============================] - 1s 69ms/step - loss: 0.0016 - accuracy: 0.0000e+00 - val_loss: 0.0014 - val_accuracy: 0.0040\n",
            "Epoch 38/100\n",
            "11/11 [==============================] - 1s 80ms/step - loss: 0.0014 - accuracy: 0.0000e+00 - val_loss: 0.0012 - val_accuracy: 0.0040\n",
            "Epoch 39/100\n",
            "11/11 [==============================] - 1s 51ms/step - loss: 0.0015 - accuracy: 0.0000e+00 - val_loss: 0.0012 - val_accuracy: 0.0040\n",
            "Epoch 40/100\n",
            "11/11 [==============================] - 1s 52ms/step - loss: 0.0014 - accuracy: 0.0000e+00 - val_loss: 0.0029 - val_accuracy: 0.0040\n",
            "Epoch 41/100\n",
            "11/11 [==============================] - 1s 51ms/step - loss: 0.0018 - accuracy: 0.0000e+00 - val_loss: 0.0012 - val_accuracy: 0.0040\n",
            "Epoch 42/100\n",
            "11/11 [==============================] - 1s 52ms/step - loss: 0.0015 - accuracy: 0.0000e+00 - val_loss: 0.0013 - val_accuracy: 0.0040\n",
            "Epoch 43/100\n",
            "11/11 [==============================] - 1s 53ms/step - loss: 0.0014 - accuracy: 0.0000e+00 - val_loss: 0.0013 - val_accuracy: 0.0040\n",
            "Epoch 44/100\n",
            "11/11 [==============================] - 1s 51ms/step - loss: 0.0016 - accuracy: 0.0000e+00 - val_loss: 0.0022 - val_accuracy: 0.0040\n",
            "Epoch 45/100\n",
            "11/11 [==============================] - 1s 53ms/step - loss: 0.0015 - accuracy: 0.0000e+00 - val_loss: 0.0012 - val_accuracy: 0.0040\n",
            "Epoch 46/100\n",
            "11/11 [==============================] - 1s 60ms/step - loss: 0.0013 - accuracy: 0.0000e+00 - val_loss: 0.0012 - val_accuracy: 0.0040\n",
            "Epoch 47/100\n",
            "11/11 [==============================] - 1s 69ms/step - loss: 0.0016 - accuracy: 0.0000e+00 - val_loss: 0.0011 - val_accuracy: 0.0040\n",
            "Epoch 48/100\n",
            "11/11 [==============================] - 1s 69ms/step - loss: 0.0018 - accuracy: 0.0000e+00 - val_loss: 0.0021 - val_accuracy: 0.0040\n",
            "Epoch 49/100\n",
            "11/11 [==============================] - 1s 78ms/step - loss: 0.0015 - accuracy: 0.0000e+00 - val_loss: 0.0021 - val_accuracy: 0.0040\n",
            "Epoch 50/100\n",
            "11/11 [==============================] - 1s 105ms/step - loss: 0.0015 - accuracy: 0.0000e+00 - val_loss: 0.0011 - val_accuracy: 0.0040\n",
            "Epoch 51/100\n",
            "11/11 [==============================] - 1s 97ms/step - loss: 0.0013 - accuracy: 0.0000e+00 - val_loss: 0.0011 - val_accuracy: 0.0040\n",
            "Epoch 52/100\n",
            "11/11 [==============================] - 1s 80ms/step - loss: 0.0013 - accuracy: 0.0000e+00 - val_loss: 0.0011 - val_accuracy: 0.0040\n",
            "Epoch 53/100\n",
            "11/11 [==============================] - 1s 71ms/step - loss: 0.0014 - accuracy: 0.0000e+00 - val_loss: 0.0015 - val_accuracy: 0.0040\n",
            "Epoch 54/100\n",
            "11/11 [==============================] - 1s 65ms/step - loss: 0.0015 - accuracy: 0.0000e+00 - val_loss: 0.0014 - val_accuracy: 0.0040\n",
            "Epoch 55/100\n",
            "11/11 [==============================] - 1s 83ms/step - loss: 0.0014 - accuracy: 0.0000e+00 - val_loss: 0.0011 - val_accuracy: 0.0040\n",
            "Epoch 56/100\n",
            "11/11 [==============================] - 1s 55ms/step - loss: 0.0016 - accuracy: 0.0000e+00 - val_loss: 0.0016 - val_accuracy: 0.0040\n",
            "Epoch 57/100\n",
            "11/11 [==============================] - 1s 53ms/step - loss: 0.0014 - accuracy: 0.0000e+00 - val_loss: 0.0021 - val_accuracy: 0.0040\n",
            "Epoch 58/100\n",
            "11/11 [==============================] - 1s 52ms/step - loss: 0.0016 - accuracy: 0.0000e+00 - val_loss: 0.0018 - val_accuracy: 0.0040\n",
            "Epoch 59/100\n",
            "11/11 [==============================] - 1s 53ms/step - loss: 0.0014 - accuracy: 0.0000e+00 - val_loss: 0.0048 - val_accuracy: 0.0040\n",
            "Epoch 60/100\n",
            "11/11 [==============================] - 1s 54ms/step - loss: 0.0033 - accuracy: 0.0000e+00 - val_loss: 0.0019 - val_accuracy: 0.0040\n",
            "Epoch 61/100\n",
            "11/11 [==============================] - 1s 54ms/step - loss: 0.0022 - accuracy: 0.0000e+00 - val_loss: 0.0023 - val_accuracy: 0.0040\n",
            "Epoch 62/100\n",
            "11/11 [==============================] - 1s 53ms/step - loss: 0.0015 - accuracy: 0.0000e+00 - val_loss: 0.0011 - val_accuracy: 0.0040\n",
            "Epoch 63/100\n",
            "11/11 [==============================] - 1s 54ms/step - loss: 0.0016 - accuracy: 0.0000e+00 - val_loss: 0.0018 - val_accuracy: 0.0040\n",
            "Epoch 64/100\n",
            "11/11 [==============================] - 1s 52ms/step - loss: 0.0016 - accuracy: 0.0000e+00 - val_loss: 0.0011 - val_accuracy: 0.0040\n",
            "Epoch 65/100\n",
            "11/11 [==============================] - 1s 52ms/step - loss: 0.0015 - accuracy: 0.0000e+00 - val_loss: 0.0014 - val_accuracy: 0.0040\n",
            "Epoch 66/100\n",
            "11/11 [==============================] - 1s 53ms/step - loss: 0.0014 - accuracy: 0.0000e+00 - val_loss: 0.0011 - val_accuracy: 0.0040\n",
            "Epoch 67/100\n",
            "11/11 [==============================] - 1s 52ms/step - loss: 0.0014 - accuracy: 0.0000e+00 - val_loss: 0.0017 - val_accuracy: 0.0040\n",
            "Epoch 68/100\n",
            "11/11 [==============================] - 1s 79ms/step - loss: 0.0014 - accuracy: 0.0000e+00 - val_loss: 0.0015 - val_accuracy: 0.0040\n",
            "Epoch 69/100\n",
            "11/11 [==============================] - 1s 84ms/step - loss: 0.0014 - accuracy: 0.0000e+00 - val_loss: 0.0010 - val_accuracy: 0.0040\n",
            "Epoch 70/100\n",
            "11/11 [==============================] - 1s 81ms/step - loss: 0.0014 - accuracy: 0.0000e+00 - val_loss: 0.0011 - val_accuracy: 0.0040\n",
            "Epoch 71/100\n",
            "11/11 [==============================] - 1s 67ms/step - loss: 0.0013 - accuracy: 0.0000e+00 - val_loss: 0.0014 - val_accuracy: 0.0040\n",
            "Epoch 72/100\n",
            "11/11 [==============================] - 1s 57ms/step - loss: 0.0012 - accuracy: 0.0000e+00 - val_loss: 0.0027 - val_accuracy: 0.0040\n",
            "Epoch 73/100\n",
            "11/11 [==============================] - 1s 55ms/step - loss: 0.0020 - accuracy: 0.0000e+00 - val_loss: 0.0011 - val_accuracy: 0.0040\n",
            "Epoch 74/100\n",
            "11/11 [==============================] - 1s 52ms/step - loss: 0.0013 - accuracy: 0.0000e+00 - val_loss: 0.0012 - val_accuracy: 0.0040\n",
            "Epoch 75/100\n",
            "11/11 [==============================] - 1s 53ms/step - loss: 0.0014 - accuracy: 0.0000e+00 - val_loss: 0.0017 - val_accuracy: 0.0040\n",
            "Epoch 76/100\n",
            "11/11 [==============================] - 1s 52ms/step - loss: 0.0015 - accuracy: 0.0000e+00 - val_loss: 9.8531e-04 - val_accuracy: 0.0040\n",
            "Epoch 77/100\n",
            "11/11 [==============================] - 1s 55ms/step - loss: 0.0013 - accuracy: 0.0000e+00 - val_loss: 0.0011 - val_accuracy: 0.0040\n",
            "Epoch 78/100\n",
            "11/11 [==============================] - 1s 53ms/step - loss: 0.0013 - accuracy: 0.0000e+00 - val_loss: 9.9740e-04 - val_accuracy: 0.0040\n",
            "Epoch 79/100\n",
            "11/11 [==============================] - 1s 53ms/step - loss: 0.0015 - accuracy: 0.0000e+00 - val_loss: 0.0029 - val_accuracy: 0.0040\n",
            "Epoch 80/100\n",
            "11/11 [==============================] - 1s 52ms/step - loss: 0.0016 - accuracy: 0.0000e+00 - val_loss: 0.0016 - val_accuracy: 0.0040\n",
            "Epoch 81/100\n",
            "11/11 [==============================] - 1s 52ms/step - loss: 0.0012 - accuracy: 0.0000e+00 - val_loss: 0.0010 - val_accuracy: 0.0040\n",
            "Epoch 82/100\n",
            "11/11 [==============================] - 1s 52ms/step - loss: 0.0014 - accuracy: 0.0000e+00 - val_loss: 0.0011 - val_accuracy: 0.0040\n",
            "Epoch 83/100\n",
            "11/11 [==============================] - 1s 51ms/step - loss: 0.0012 - accuracy: 0.0000e+00 - val_loss: 0.0012 - val_accuracy: 0.0040\n",
            "Epoch 84/100\n",
            "11/11 [==============================] - 1s 54ms/step - loss: 0.0012 - accuracy: 0.0000e+00 - val_loss: 9.7001e-04 - val_accuracy: 0.0040\n",
            "Epoch 85/100\n",
            "11/11 [==============================] - 1s 51ms/step - loss: 0.0013 - accuracy: 0.0000e+00 - val_loss: 9.6970e-04 - val_accuracy: 0.0040\n",
            "Epoch 86/100\n",
            "11/11 [==============================] - 1s 53ms/step - loss: 0.0012 - accuracy: 0.0000e+00 - val_loss: 9.5933e-04 - val_accuracy: 0.0040\n",
            "Epoch 87/100\n",
            "11/11 [==============================] - 1s 54ms/step - loss: 0.0011 - accuracy: 0.0000e+00 - val_loss: 0.0014 - val_accuracy: 0.0040\n",
            "Epoch 88/100\n",
            "11/11 [==============================] - 1s 73ms/step - loss: 0.0012 - accuracy: 0.0000e+00 - val_loss: 0.0027 - val_accuracy: 0.0040\n",
            "Epoch 89/100\n",
            "11/11 [==============================] - 1s 80ms/step - loss: 0.0013 - accuracy: 0.0000e+00 - val_loss: 9.5586e-04 - val_accuracy: 0.0040\n",
            "Epoch 90/100\n",
            "11/11 [==============================] - 1s 80ms/step - loss: 0.0011 - accuracy: 0.0000e+00 - val_loss: 0.0012 - val_accuracy: 0.0040\n",
            "Epoch 91/100\n",
            "11/11 [==============================] - 1s 74ms/step - loss: 0.0013 - accuracy: 0.0000e+00 - val_loss: 9.6413e-04 - val_accuracy: 0.0040\n",
            "Epoch 92/100\n",
            "11/11 [==============================] - 1s 51ms/step - loss: 0.0012 - accuracy: 0.0000e+00 - val_loss: 0.0010 - val_accuracy: 0.0040\n",
            "Epoch 93/100\n",
            "11/11 [==============================] - 1s 51ms/step - loss: 0.0012 - accuracy: 0.0000e+00 - val_loss: 0.0013 - val_accuracy: 0.0040\n",
            "Epoch 94/100\n",
            "11/11 [==============================] - 1s 53ms/step - loss: 0.0010 - accuracy: 0.0000e+00 - val_loss: 9.7694e-04 - val_accuracy: 0.0040\n",
            "Epoch 95/100\n",
            "11/11 [==============================] - 1s 52ms/step - loss: 0.0011 - accuracy: 0.0000e+00 - val_loss: 0.0011 - val_accuracy: 0.0040\n",
            "Epoch 96/100\n",
            "11/11 [==============================] - 1s 53ms/step - loss: 0.0011 - accuracy: 0.0000e+00 - val_loss: 0.0021 - val_accuracy: 0.0040\n",
            "Epoch 97/100\n",
            "11/11 [==============================] - 1s 55ms/step - loss: 0.0013 - accuracy: 0.0000e+00 - val_loss: 9.7098e-04 - val_accuracy: 0.0040\n",
            "Epoch 98/100\n",
            "11/11 [==============================] - 1s 51ms/step - loss: 9.8571e-04 - accuracy: 0.0000e+00 - val_loss: 0.0010 - val_accuracy: 0.0040\n",
            "Epoch 99/100\n",
            "11/11 [==============================] - 1s 51ms/step - loss: 0.0010 - accuracy: 0.0000e+00 - val_loss: 0.0011 - val_accuracy: 0.0040\n",
            "Epoch 100/100\n",
            "11/11 [==============================] - 1s 54ms/step - loss: 0.0011 - accuracy: 0.0000e+00 - val_loss: 9.5511e-04 - val_accuracy: 0.0040\n"
          ]
        },
        {
          "output_type": "execute_result",
          "data": {
            "text/plain": [
              "<keras.callbacks.History at 0x7fb8e6d05550>"
            ]
          },
          "metadata": {},
          "execution_count": 304
        }
      ]
    },
    {
      "cell_type": "code",
      "source": [
        "test_data = data[:120]"
      ],
      "metadata": {
        "id": "Lai3in9g1uRP"
      },
      "execution_count": null,
      "outputs": []
    },
    {
      "cell_type": "code",
      "source": [
        "x_test = []\n",
        "y_test = []\n",
        "\n",
        "for i in range(60,test_data.shape[0]):\n",
        "  x_test.append(test_data[i-60:i])\n",
        "  y_test.append(test_data[i])\n",
        "\n",
        "x_test = np.array(x_test)\n",
        "y_test = np.array(y_test)"
      ],
      "metadata": {
        "id": "tCA3owqPruNN"
      },
      "execution_count": null,
      "outputs": []
    },
    {
      "cell_type": "code",
      "source": [
        "x_test[0][-1],y_test[0]"
      ],
      "metadata": {
        "colab": {
          "base_uri": "https://localhost:8080/"
        },
        "id": "sjTZToV65FdS",
        "outputId": "2adbe1b5-4fec-49af-bd10-a06b53dc65ac"
      },
      "execution_count": null,
      "outputs": [
        {
          "output_type": "execute_result",
          "data": {
            "text/plain": [
              "(array([0.08896418]), array([0.0946757]))"
            ]
          },
          "metadata": {},
          "execution_count": 308
        }
      ]
    },
    {
      "cell_type": "code",
      "source": [
        "x_test.shape,y_test.shape"
      ],
      "metadata": {
        "colab": {
          "base_uri": "https://localhost:8080/"
        },
        "id": "7evedCrRruO0",
        "outputId": "6a5012b7-ceed-41f0-8b9b-c8008018b2b6"
      },
      "execution_count": null,
      "outputs": [
        {
          "output_type": "execute_result",
          "data": {
            "text/plain": [
              "((60, 60, 1), (60, 1))"
            ]
          },
          "metadata": {},
          "execution_count": 309
        }
      ]
    },
    {
      "cell_type": "code",
      "source": [
        "y_test_inv = scaler.inverse_transform(y_test)"
      ],
      "metadata": {
        "id": "bSLw25yYruQY"
      },
      "execution_count": null,
      "outputs": []
    },
    {
      "cell_type": "code",
      "source": [
        "y_pred = model.predict(x_test)"
      ],
      "metadata": {
        "colab": {
          "base_uri": "https://localhost:8080/"
        },
        "id": "t3DEZtoZruTr",
        "outputId": "65361a28-1f35-43ab-e1f7-c81aa65043c8"
      },
      "execution_count": null,
      "outputs": [
        {
          "output_type": "stream",
          "name": "stderr",
          "text": [
            "WARNING:tensorflow:5 out of the last 11 calls to <function Model.make_predict_function.<locals>.predict_function at 0x7fb8e681a3a0> triggered tf.function retracing. Tracing is expensive and the excessive number of tracings could be due to (1) creating @tf.function repeatedly in a loop, (2) passing tensors with different shapes, (3) passing Python objects instead of tensors. For (1), please define your @tf.function outside of the loop. For (2), @tf.function has reduce_retracing=True option that can avoid unnecessary retracing. For (3), please refer to https://www.tensorflow.org/guide/function#controlling_retracing and https://www.tensorflow.org/api_docs/python/tf/function for  more details.\n"
          ]
        },
        {
          "output_type": "stream",
          "name": "stdout",
          "text": [
            "2/2 [==============================] - 1s 14ms/step\n"
          ]
        }
      ]
    },
    {
      "cell_type": "markdown",
      "source": [
        "Inversing the data from Minmax scaler"
      ],
      "metadata": {
        "id": "4-PHQClk-FoE"
      }
    },
    {
      "cell_type": "code",
      "source": [
        "y_pred_inv = scaler.inverse_transform(y_pred)"
      ],
      "metadata": {
        "id": "ZQXgmEJuruVw"
      },
      "execution_count": null,
      "outputs": []
    },
    {
      "cell_type": "markdown",
      "source": [
        "Testing the model"
      ],
      "metadata": {
        "id": "BlUTQnB9-EWL"
      }
    },
    {
      "cell_type": "code",
      "source": [
        "plt.figure(figsize=(12,3))\n",
        "plt.plot(y_test_inv, label = 'Y-Actual')\n",
        "plt.plot(y_pred_inv, label = 'Y-Predicted')\n",
        "plt.title('Actual Vs Predicted')\n",
        "plt.legend()\n",
        "plt.show()"
      ],
      "metadata": {
        "colab": {
          "base_uri": "https://localhost:8080/",
          "height": 334
        },
        "id": "_jS2YWeEruXf",
        "outputId": "160caaa1-7b9c-4a4b-8cdf-d27180223b48"
      },
      "execution_count": null,
      "outputs": [
        {
          "output_type": "display_data",
          "data": {
            "text/plain": [
              "<Figure size 1200x300 with 1 Axes>"
            ],
            "image/png": "[encoded data removed]"
          },
          "metadata": {}
        }
      ]
    }
  ]
}